{
 "cells": [
  {
   "cell_type": "code",
   "execution_count": null,
   "metadata": {},
   "outputs": [],
   "source": [
    "# Dependencies\n",
    "import csv\n",
    "import matplotlib.pyplot as plt\n",
    "import numpy as np\n",
    "import pandas as pd\n",
    "from scipy import stats\n",
    "from scipy.stats import linregress\n",
    "import time"
   ]
  },
  {
   "cell_type": "code",
   "execution_count": null,
   "metadata": {},
   "outputs": [],
   "source": [
    "# dataframe\n",
    "DF_table = pd.read_csv(\"Resources/02-Homework_11-Web_Instructions_Resources_cities.csv\", index_col=0, parse_dates=True)\n",
    "DF_table\n"
   ]
  },
  {
   "cell_type": "code",
   "execution_count": null,
   "metadata": {},
   "outputs": [],
   "source": [
    "HTML_table = DF_table.to_html()\n",
    "print(HTML_table)"
   ]
  },
  {
   "cell_type": "code",
   "execution_count": null,
   "metadata": {},
   "outputs": [],
   "source": [
    "lat = []\n",
    "temp = []\n",
    "humidity = []\n",
    "cloudiness = []\n",
    "windiness = []\n",
    "\n",
    "lat = DF_table[\"Lat\"]\n",
    "temp = DF_table[\"Max Temp\"]\n",
    "humidity = DF_table[\"Humidity\"]\n",
    "cloudiness = DF_table[\"Cloudiness\"]\n",
    "windiness = DF_table[\"Wind Speed\"]\n",
    "\n",
    "lat_N = len(lat)\n",
    "temp_N = len(lat)\n",
    "RH_N = len(lat)\n",
    "cloud_N = len(lat)\n",
    "wind_N = len(lat)"
   ]
  },
  {
   "cell_type": "code",
   "execution_count": null,
   "metadata": {},
   "outputs": [],
   "source": [
    "xValues = lat\n",
    "yValues = temp\n",
    "\n",
    "# Create a scatterplot for temperature vs latitude\n",
    "with plt.xkcd():\n",
    "    plt.figure(figsize=(10,10))\n",
    "    plt.scatter(xValues,yValues)\n",
    "    plt.title(f\"Temperature vs Latitude (n={temp_N})\")\n",
    "    plt.xlabel(\"Latitude (degrees)\")\n",
    "    plt.ylabel(\"Temperature (\\N{DEGREE SIGN}F)\")\n",
    "    plt.savefig(\"assets/TempLat.png\")\n",
    "    plt.show()"
   ]
  },
  {
   "cell_type": "code",
   "execution_count": null,
   "metadata": {},
   "outputs": [],
   "source": [
    "xValues = lat\n",
    "yValues = humidity\n",
    "\n",
    "# Create a scatterplot for temperature vs latitude\n",
    "with plt.xkcd():\n",
    "    plt.figure(figsize=(10,10))\n",
    "    plt.scatter(xValues,yValues)\n",
    "    plt.title(f\"Humidity vs Latitude (n={RH_N})\")\n",
    "    plt.xlabel(\"Latitude (degrees)\")\n",
    "    plt.ylabel(\"Relative Humidity (pct)\")\n",
    "    plt.savefig(\"assets/RHLat.png\")\n",
    "    plt.show()\n"
   ]
  },
  {
   "cell_type": "code",
   "execution_count": null,
   "metadata": {},
   "outputs": [],
   "source": [
    "xValues = lat\n",
    "yValues = cloudiness\n",
    "\n",
    "# Create a scatterplot for temperature vs latitude\n",
    "with plt.xkcd():\n",
    "    plt.figure(figsize=(10,10))\n",
    "    plt.scatter(xValues,yValues)\n",
    "    plt.title(f\"Cloudiness vs Latitude (n={cloud_N})\")\n",
    "    plt.xlabel(\"Latitude (degrees)\")\n",
    "    plt.ylabel(\"Cloud cover\")\n",
    "    plt.savefig(\"assets/CloudLat.png\")\n",
    "    plt.show()\n"
   ]
  },
  {
   "cell_type": "code",
   "execution_count": null,
   "metadata": {},
   "outputs": [],
   "source": [
    "xValues = lat\n",
    "yValues = windiness\n",
    "\n",
    "# Create a scatterplot for temperature vs latitude\n",
    "with plt.xkcd():\n",
    "    plt.figure(figsize=(10,10))\n",
    "    plt.scatter(xValues,yValues)\n",
    "    plt.title(f\"Windiness vs Latitude (n={wind_N})\")\n",
    "    plt.xlabel(\"Latitude (degrees)\")\n",
    "    plt.ylabel(\"Wind Speed (MPH)\")\n",
    "    plt.savefig(\"assets/WindLat.png\")\n",
    "    plt.show()\n"
   ]
  }
 ],
 "metadata": {
  "kernelspec": {
   "display_name": "Python 3",
   "language": "python",
   "name": "python3"
  },
  "language_info": {
   "codemirror_mode": {
    "name": "ipython",
    "version": 3
   },
   "file_extension": ".py",
   "mimetype": "text/x-python",
   "name": "python",
   "nbconvert_exporter": "python",
   "pygments_lexer": "ipython3",
   "version": "3.6.10"
  }
 },
 "nbformat": 4,
 "nbformat_minor": 4
}
